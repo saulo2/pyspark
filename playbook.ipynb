{
 "cells": [
  {
   "cell_type": "markdown",
   "metadata": {},
   "source": [
    "## pyspark playbook"
   ]
  },
  {
   "cell_type": "code",
   "execution_count": 23,
   "metadata": {},
   "outputs": [
    {
     "name": "stdout",
     "output_type": "stream",
     "text": [
      "mlflow, version 0.9.1\r\n"
     ]
    }
   ],
   "source": [
    "! mlflow --version"
   ]
  },
  {
   "cell_type": "markdown",
   "metadata": {},
   "source": [
    "### Train"
   ]
  },
  {
   "cell_type": "code",
   "execution_count": 24,
   "metadata": {},
   "outputs": [],
   "source": [
    "import os\n",
    "os.environ[\"MLFLOW_TRACKING_URI\"] = \"http://localhost:5000\""
   ]
  },
  {
   "cell_type": "code",
   "execution_count": 26,
   "metadata": {
    "scrolled": false
   },
   "outputs": [
    {
     "name": "stdout",
     "output_type": "stream",
     "text": [
      "19/04/24 21:07:26 WARN Utils: Your hostname, C02VD1RGHTDD resolves to a loopback address: 127.0.0.1; using 10.64.185.74 instead (on interface en0)\n",
      "19/04/24 21:07:26 WARN Utils: Set SPARK_LOCAL_IP if you need to bind to another address\n",
      "19/04/24 21:07:27 WARN NativeCodeLoader: Unable to load native-hadoop library for your platform... using builtin-java classes where applicable\n",
      "MLflow Version: 0.9.1\n",
      "Tracking URI: http://localhost:5000\n",
      "experiment_name: pyspark\n",
      "MLflow Version: 0.9.1\n",
      "experiment_id: 3\n",
      "run_id: 71fc995eb9154fe7bf360f1686456ea6\n",
      "experiment_id: 3\n",
      "Parameters: max_depth: 16  max_bins: 32\n",
      "+----------+------------+--------------------+\n",
      "|prediction|indexedLabel|            features|\n",
      "+----------+------------+--------------------+\n",
      "|       1.0|         1.0|(692,[98,99,100,1...|\n",
      "|       1.0|         1.0|(692,[123,124,125...|\n",
      "|       1.0|         1.0|(692,[124,125,126...|\n",
      "|       1.0|         1.0|(692,[124,125,126...|\n",
      "|       1.0|         1.0|(692,[126,127,128...|\n",
      "+----------+------------+--------------------+\n",
      "only showing top 5 rows\n",
      "\n",
      "Test Error = 0.033333333333333326 \n",
      "DecisionTreeClassificationModel (uid=DecisionTreeClassifier_2cea66fefc86) of depth 1 with 3 nodes\n"
     ]
    }
   ],
   "source": [
    "! spark-submit --master local[2] train.py --max_depth 16 --max_bins 32"
   ]
  },
  {
   "cell_type": "code",
   "execution_count": 27,
   "metadata": {},
   "outputs": [
    {
     "name": "stdout",
     "output_type": "stream",
     "text": [
      "2019/04/24 21:07:43 INFO mlflow.projects: === Fetching project from https://github.com/amesar/mlflow-fun.git#examples/pyspark into /var/folders/_9/tbkxzw0116v2cp_zq4f1_1cm0000gp/T/tmpg7fq0zy5 ===\n",
      "2019/04/24 21:07:47 INFO mlflow.projects: === Created directory /var/folders/_9/tbkxzw0116v2cp_zq4f1_1cm0000gp/T/tmpji7c7udh for downloading remote URIs passed to arguments of type 'path' ===\n",
      "2019/04/24 21:07:47 INFO mlflow.projects: === Running command 'source activate mlflow-95125872403f1ccbea3f04eea25e874f26a00372 && spark-submit --master local[2] train.py --max_depth 3 --max_bins 24' in run with ID '6aed788a20ea4fae90c423898fbfad58' === \n",
      "19/04/24 21:07:48 WARN Utils: Your hostname, C02VD1RGHTDD resolves to a loopback address: 127.0.0.1; using 10.64.185.74 instead (on interface en0)\n",
      "19/04/24 21:07:48 WARN Utils: Set SPARK_LOCAL_IP if you need to bind to another address\n",
      "19/04/24 21:07:49 WARN NativeCodeLoader: Unable to load native-hadoop library for your platform... using builtin-java classes where applicable\n",
      "/Users/ander/miniconda3/envs/mlflow-95125872403f1ccbea3f04eea25e874f26a00372/lib/python3.6/site-packages/mlflow/utils/environment.py:26: YAMLLoadWarning: calling yaml.load() without Loader=... is deprecated, as the default Loader is unsafe. Please read https://msg.pyyaml.org/load for full details.\n",
      "  env = yaml.load(_conda_header)\n",
      "MLflow Version: 0.8.2\n",
      "Tracking URI: http://localhost:5000\n",
      "experiment_name: py/spark/DecisionTree\n",
      "INFO: 'py/spark/DecisionTree' does not exist. Creating a new experiment\n",
      "MLflow Version: 0.8.2\n",
      "experiment_id: 6\n",
      "run_id: 6aed788a20ea4fae90c423898fbfad58\n",
      "experiment_id: 2\n",
      "Parameters: max_depth: 3  max_bins: 24\n",
      "+----------+------------+--------------------+\n",
      "|prediction|indexedLabel|            features|\n",
      "+----------+------------+--------------------+\n",
      "|       1.0|         1.0|(692,[121,122,123...|\n",
      "|       1.0|         1.0|(692,[123,124,125...|\n",
      "|       1.0|         1.0|(692,[124,125,126...|\n",
      "|       1.0|         1.0|(692,[126,127,128...|\n",
      "|       1.0|         1.0|(692,[126,127,128...|\n",
      "+----------+------------+--------------------+\n",
      "only showing top 5 rows\n",
      "\n",
      "Test Error = 0.0 \n",
      "DecisionTreeClassificationModel (uid=DecisionTreeClassifier_a089dee78712) of depth 2 with 5 nodes\n",
      "2019/04/24 21:08:04 INFO mlflow.projects: === Run (ID '6aed788a20ea4fae90c423898fbfad58') succeeded ===\n"
     ]
    }
   ],
   "source": [
    "! mlflow run https://github.com/amesar/mlflow-fun.git#examples/pyspark \\\n",
    "   -P max_depth=3 -P max_bins=24 \\\n",
    "  --experiment-id=2 \\"
   ]
  },
  {
   "cell_type": "code",
   "execution_count": 28,
   "metadata": {},
   "outputs": [
    {
     "name": "stdout",
     "output_type": "stream",
     "text": [
      "2019/04/24 21:08:06 INFO mlflow.projects: === Fetching project from https://github.com/amesar/mlflow-fun.git#examples/pyspark into /var/folders/_9/tbkxzw0116v2cp_zq4f1_1cm0000gp/T/tmpmg4jv0rv ===\n",
      "2019/04/24 21:08:10 INFO mlflow.projects: === Created directory /var/folders/_9/tbkxzw0116v2cp_zq4f1_1cm0000gp/T/tmpi8i4vntc for downloading remote URIs passed to arguments of type 'path' ===\n",
      "2019/04/24 21:08:10 INFO mlflow.projects: === Running command 'source activate mlflow-95125872403f1ccbea3f04eea25e874f26a00372 && spark-submit --master local[2] train.py --max_depth 3 --max_bins 24' in run with ID '980be9f445184ff4854701b0dfd0889d' === \n",
      "19/04/24 21:08:11 WARN Utils: Your hostname, C02VD1RGHTDD resolves to a loopback address: 127.0.0.1; using 10.64.185.74 instead (on interface en0)\n",
      "19/04/24 21:08:11 WARN Utils: Set SPARK_LOCAL_IP if you need to bind to another address\n",
      "19/04/24 21:08:11 WARN NativeCodeLoader: Unable to load native-hadoop library for your platform... using builtin-java classes where applicable\n",
      "/Users/ander/miniconda3/envs/mlflow-95125872403f1ccbea3f04eea25e874f26a00372/lib/python3.6/site-packages/mlflow/utils/environment.py:26: YAMLLoadWarning: calling yaml.load() without Loader=... is deprecated, as the default Loader is unsafe. Please read https://msg.pyyaml.org/load for full details.\n",
      "  env = yaml.load(_conda_header)\n",
      "MLflow Version: 0.8.2\n",
      "Tracking URI: http://localhost:5000\n",
      "experiment_name: py/spark/DecisionTree\n",
      "MLflow Version: 0.8.2\n",
      "experiment_id: 6\n",
      "run_id: 980be9f445184ff4854701b0dfd0889d\n",
      "experiment_id: 2\n",
      "Parameters: max_depth: 3  max_bins: 24\n",
      "+----------+------------+--------------------+\n",
      "|prediction|indexedLabel|            features|\n",
      "+----------+------------+--------------------+\n",
      "|       1.0|         1.0|(692,[98,99,100,1...|\n",
      "|       1.0|         1.0|(692,[100,101,102...|\n",
      "|       1.0|         1.0|(692,[121,122,123...|\n",
      "|       1.0|         1.0|(692,[122,123,124...|\n",
      "|       1.0|         1.0|(692,[124,125,126...|\n",
      "+----------+------------+--------------------+\n",
      "only showing top 5 rows\n",
      "\n",
      "Test Error = 0.02941176470588236 \n",
      "DecisionTreeClassificationModel (uid=DecisionTreeClassifier_a5830562b284) of depth 2 with 5 nodes\n",
      "2019/04/24 21:08:23 INFO mlflow.projects: === Run (ID '980be9f445184ff4854701b0dfd0889d') succeeded ===\n"
     ]
    }
   ],
   "source": [
    "! mlflow run https://github.com/amesar/mlflow-fun.git#examples/pyspark \\\n",
    "   -P max_depth=3 -P max_bins=24 \\\n",
    "   --experiment-id=2"
   ]
  },
  {
   "cell_type": "markdown",
   "metadata": {},
   "source": [
    "### Predict"
   ]
  },
  {
   "cell_type": "code",
   "execution_count": 3,
   "metadata": {},
   "outputs": [
    {
     "name": "stdout",
     "output_type": "stream",
     "text": [
      "19/04/25 14:01:33 WARN Utils: Your hostname, C02VD1RGHTDD resolves to a loopback address: 127.0.0.1; using 10.64.185.74 instead (on interface en0)\n",
      "19/04/25 14:01:33 WARN Utils: Set SPARK_LOCAL_IP if you need to bind to another address\n",
      "19/04/25 14:01:34 WARN NativeCodeLoader: Unable to load native-hadoop library for your platform... using builtin-java classes where applicable\n",
      "MLflow Version: 0.9.1\n",
      "Tracking URI: /Users/ander/git/andre/clean/mlflow-spark-summit-2019/pyspark/mlruns\n",
      "run_id: 6ca69795529e491983d217181ab2dae9\n",
      "data_path: ../data/sample_libsvm_data.txt\n",
      "Traceback (most recent call last):\n",
      "  File \"/Users/ander/git/andre/clean/mlflow-spark-summit-2019/pyspark/predict.py\", line 20, in <module>\n",
      "    model = mlflow_spark.load_model(\"spark-model\", run_id=run_id)\n",
      "  File \"/Users/ander/venvs/mlflow-venv/lib/python2.7/site-packages/mlflow/spark.py\", line 348, in load_model\n",
      "    path = mlflow.tracking.utils._get_model_log_dir(model_name=path, run_id=run_id)\n",
      "  File \"/Users/ander/venvs/mlflow-venv/lib/python2.7/site-packages/mlflow/tracking/utils.py\", line 279, in _get_model_log_dir\n",
      "    run = store.get_run(run_id)\n",
      "  File \"/Users/ander/venvs/mlflow-venv/lib/python2.7/site-packages/mlflow/store/file_store.py\", line 368, in get_run\n",
      "    run_info = self._get_run_info(run_uuid)\n",
      "  File \"/Users/ander/venvs/mlflow-venv/lib/python2.7/site-packages/mlflow/store/file_store.py\", line 384, in _get_run_info\n",
      "    databricks_pb2.RESOURCE_DOES_NOT_EXIST)\n",
      "mlflow.exceptions.MlflowException: Run '6ca69795529e491983d217181ab2dae9' not found\n"
     ]
    }
   ],
   "source": [
    "! spark-submit --master local[2] predict.py 6ca69795529e491983d217181ab2dae9"
   ]
  },
  {
   "cell_type": "code",
   "execution_count": null,
   "metadata": {},
   "outputs": [],
   "source": []
  }
 ],
 "metadata": {
  "kernelspec": {
   "display_name": "Python 2",
   "language": "python",
   "name": "python2"
  },
  "language_info": {
   "codemirror_mode": {
    "name": "ipython",
    "version": 2
   },
   "file_extension": ".py",
   "mimetype": "text/x-python",
   "name": "python",
   "nbconvert_exporter": "python",
   "pygments_lexer": "ipython2",
   "version": "2.7.14"
  }
 },
 "nbformat": 4,
 "nbformat_minor": 2
}
